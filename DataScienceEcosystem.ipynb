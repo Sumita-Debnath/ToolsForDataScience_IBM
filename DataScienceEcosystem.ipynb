{
 "cells": [
  {
   "cell_type": "markdown",
   "id": "342f8664-4d58-40ee-af7d-14af99228529",
   "metadata": {},
   "source": [
    "# Data Science Tools and Ecosystem"
   ]
  },
  {
   "cell_type": "markdown",
   "id": "c36f1533-82b0-459f-84dd-41d243980b02",
   "metadata": {},
   "source": [
    "In this notebook, Data Science Tools and Ecosystem are summarized."
   ]
  },
  {
   "cell_type": "markdown",
   "id": "276881af-8b24-4da6-abd7-568194d06795",
   "metadata": {},
   "source": [
    "Some of the popular languages that Data Scientists use are:\n",
    "1. Python\n",
    "2. R\n",
    "3. Julia\n",
    "4. Java\n",
    "5. SQL\n",
    "6. C/C++"
   ]
  },
  {
   "cell_type": "markdown",
   "id": "32a7e083-a560-4127-9ff2-d5c49ddd5aa4",
   "metadata": {},
   "source": [
    "Some of the commonly used libraries used by Data Scientists include:\n",
    "1. Pandas\n",
    "2. Numpy\n",
    "3. Tensorflow\n",
    "4. Matplotlib\n",
    "5. Scipy\n",
    "6. Seaborn\n",
    "7. Keras"
   ]
  },
  {
   "cell_type": "markdown",
   "id": "3443065f-9540-4430-8825-1bbdf9f45e00",
   "metadata": {},
   "source": [
    "|Data Science Tools|\n",
    "|:-----------------:|\n",
    "|Tensorflow|\n",
    "|MongoDB|\n",
    "|Apache Spark Sql|\""
   ]
  },
  {
   "cell_type": "markdown",
   "id": "10e15103-4f96-437a-9fca-13af41378212",
   "metadata": {},
   "source": [
    "### Below are a few examples of evaluating arithmetic expressions in Python"
   ]
  },
  {
   "cell_type": "code",
   "execution_count": 6,
   "id": "8ed94194-1b1c-41ee-8ba2-a6d11ca26e81",
   "metadata": {},
   "outputs": [
    {
     "name": "stdout",
     "output_type": "stream",
     "text": [
      "11\n",
      "-1\n",
      "30\n"
     ]
    }
   ],
   "source": [
    "a=5\n",
    "b=6\n",
    "print(a+b)\n",
    "print(a-b)\n",
    "print(a*b)"
   ]
  },
  {
   "cell_type": "markdown",
   "id": "9c753897-cbfe-4dd2-8d45-41feaa2a8408",
   "metadata": {},
   "source": [
    "## This a simple arithmetic expression to mutiply then add integers"
   ]
  },
  {
   "cell_type": "code",
   "execution_count": 8,
   "id": "db63b3d8-0ed2-424d-8b72-93360c2f325d",
   "metadata": {},
   "outputs": [
    {
     "data": {
      "text/plain": [
       "17"
      ]
     },
     "execution_count": 8,
     "metadata": {},
     "output_type": "execute_result"
    }
   ],
   "source": [
    "(3*4)+5"
   ]
  },
  {
   "cell_type": "markdown",
   "id": "54c5a636-bd24-43ce-9721-f8c4f2086faa",
   "metadata": {},
   "source": [
    "### This will convert 200 minutes to hours by diving by 60"
   ]
  },
  {
   "cell_type": "code",
   "execution_count": 12,
   "id": "1b267324-700d-4b47-8a43-19679a934662",
   "metadata": {},
   "outputs": [
    {
     "name": "stdout",
     "output_type": "stream",
     "text": [
      "3.3333333333333335\n"
     ]
    }
   ],
   "source": [
    "a= 200\n",
    "b= 60\n",
    "print((a/b))"
   ]
  },
  {
   "cell_type": "markdown",
   "id": "597bbd53-da39-466a-b1ed-d6d0962fa656",
   "metadata": {},
   "source": [
    "**Objectives:**\n",
    "* Python\n",
    "* R\n",
    "* Sql"
   ]
  },
  {
   "cell_type": "markdown",
   "id": "a64d5edd-0eb7-44f1-942f-5b4c8a119282",
   "metadata": {},
   "source": [
    "## Author\n",
    "Sumita"
   ]
  }
 ],
 "metadata": {
  "kernelspec": {
   "display_name": "Python 3 (ipykernel)",
   "language": "python",
   "name": "python3"
  },
  "language_info": {
   "codemirror_mode": {
    "name": "ipython",
    "version": 3
   },
   "file_extension": ".py",
   "mimetype": "text/x-python",
   "name": "python",
   "nbconvert_exporter": "python",
   "pygments_lexer": "ipython3",
   "version": "3.12.8"
  }
 },
 "nbformat": 4,
 "nbformat_minor": 5
}
